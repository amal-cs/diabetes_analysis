{
 "cells": [
  {
   "cell_type": "code",
   "execution_count": 2,
   "id": "b6060196-9ec7-4e07-886f-0b803e6c1f7c",
   "metadata": {},
   "outputs": [],
   "source": [
    "import pandas as pd\n",
    "import numpy as np\n",
    "import matplotlib.pyplot as plt\n",
    "import seaborn as sns"
   ]
  },
  {
   "cell_type": "code",
   "execution_count": 3,
   "id": "d66d1fc0-d1b8-47c6-b9d2-590e456bd62a",
   "metadata": {},
   "outputs": [
    {
     "data": {
      "text/html": [
       "<div>\n",
       "<style scoped>\n",
       "    .dataframe tbody tr th:only-of-type {\n",
       "        vertical-align: middle;\n",
       "    }\n",
       "\n",
       "    .dataframe tbody tr th {\n",
       "        vertical-align: top;\n",
       "    }\n",
       "\n",
       "    .dataframe thead th {\n",
       "        text-align: right;\n",
       "    }\n",
       "</style>\n",
       "<table border=\"1\" class=\"dataframe\">\n",
       "  <thead>\n",
       "    <tr style=\"text-align: right;\">\n",
       "      <th></th>\n",
       "      <th>6</th>\n",
       "      <th>148</th>\n",
       "      <th>72</th>\n",
       "      <th>35</th>\n",
       "      <th>0</th>\n",
       "      <th>33.6</th>\n",
       "      <th>0.627</th>\n",
       "      <th>50</th>\n",
       "      <th>1</th>\n",
       "    </tr>\n",
       "  </thead>\n",
       "  <tbody>\n",
       "    <tr>\n",
       "      <th>0</th>\n",
       "      <td>1</td>\n",
       "      <td>85</td>\n",
       "      <td>66</td>\n",
       "      <td>29</td>\n",
       "      <td>0</td>\n",
       "      <td>26.6</td>\n",
       "      <td>0.351</td>\n",
       "      <td>31</td>\n",
       "      <td>0</td>\n",
       "    </tr>\n",
       "    <tr>\n",
       "      <th>1</th>\n",
       "      <td>8</td>\n",
       "      <td>183</td>\n",
       "      <td>64</td>\n",
       "      <td>0</td>\n",
       "      <td>0</td>\n",
       "      <td>23.3</td>\n",
       "      <td>0.672</td>\n",
       "      <td>32</td>\n",
       "      <td>1</td>\n",
       "    </tr>\n",
       "    <tr>\n",
       "      <th>2</th>\n",
       "      <td>1</td>\n",
       "      <td>89</td>\n",
       "      <td>66</td>\n",
       "      <td>23</td>\n",
       "      <td>94</td>\n",
       "      <td>28.1</td>\n",
       "      <td>0.167</td>\n",
       "      <td>21</td>\n",
       "      <td>0</td>\n",
       "    </tr>\n",
       "    <tr>\n",
       "      <th>3</th>\n",
       "      <td>0</td>\n",
       "      <td>137</td>\n",
       "      <td>40</td>\n",
       "      <td>35</td>\n",
       "      <td>168</td>\n",
       "      <td>43.1</td>\n",
       "      <td>2.288</td>\n",
       "      <td>33</td>\n",
       "      <td>1</td>\n",
       "    </tr>\n",
       "    <tr>\n",
       "      <th>4</th>\n",
       "      <td>5</td>\n",
       "      <td>116</td>\n",
       "      <td>74</td>\n",
       "      <td>0</td>\n",
       "      <td>0</td>\n",
       "      <td>25.6</td>\n",
       "      <td>0.201</td>\n",
       "      <td>30</td>\n",
       "      <td>0</td>\n",
       "    </tr>\n",
       "  </tbody>\n",
       "</table>\n",
       "</div>"
      ],
      "text/plain": [
       "   6  148  72  35    0  33.6  0.627  50  1\n",
       "0  1   85  66  29    0  26.6  0.351  31  0\n",
       "1  8  183  64   0    0  23.3  0.672  32  1\n",
       "2  1   89  66  23   94  28.1  0.167  21  0\n",
       "3  0  137  40  35  168  43.1  2.288  33  1\n",
       "4  5  116  74   0    0  25.6  0.201  30  0"
      ]
     },
     "execution_count": 3,
     "metadata": {},
     "output_type": "execute_result"
    }
   ],
   "source": [
    "df = pd.read_csv('pima-indians-diabetes.csv')\n",
    "df.head()"
   ]
  },
  {
   "cell_type": "code",
   "execution_count": 4,
   "id": "b0bb591c-8f6b-4055-9801-bc3370b90f8a",
   "metadata": {},
   "outputs": [],
   "source": [
    "df.columns = ['Number of times pregnant','Plasma glucose concentration','Diastolic blood pressure',\n",
    "              'Triceps skin fold thickness','2-Hour serum insulin','Body mass index',\n",
    "              'Diabetes pedigree function','Age','Result']"
   ]
  },
  {
   "cell_type": "code",
   "execution_count": 5,
   "id": "15e6bf3b-06ab-4b74-9ae0-01c33876022e",
   "metadata": {},
   "outputs": [
    {
     "data": {
      "text/html": [
       "<div>\n",
       "<style scoped>\n",
       "    .dataframe tbody tr th:only-of-type {\n",
       "        vertical-align: middle;\n",
       "    }\n",
       "\n",
       "    .dataframe tbody tr th {\n",
       "        vertical-align: top;\n",
       "    }\n",
       "\n",
       "    .dataframe thead th {\n",
       "        text-align: right;\n",
       "    }\n",
       "</style>\n",
       "<table border=\"1\" class=\"dataframe\">\n",
       "  <thead>\n",
       "    <tr style=\"text-align: right;\">\n",
       "      <th></th>\n",
       "      <th>Number of times pregnant</th>\n",
       "      <th>Plasma glucose concentration</th>\n",
       "      <th>Diastolic blood pressure</th>\n",
       "      <th>Triceps skin fold thickness</th>\n",
       "      <th>2-Hour serum insulin</th>\n",
       "      <th>Body mass index</th>\n",
       "      <th>Diabetes pedigree function</th>\n",
       "      <th>Age</th>\n",
       "      <th>Result</th>\n",
       "    </tr>\n",
       "  </thead>\n",
       "  <tbody>\n",
       "    <tr>\n",
       "      <th>0</th>\n",
       "      <td>1</td>\n",
       "      <td>85</td>\n",
       "      <td>66</td>\n",
       "      <td>29</td>\n",
       "      <td>0</td>\n",
       "      <td>26.6</td>\n",
       "      <td>0.351</td>\n",
       "      <td>31</td>\n",
       "      <td>0</td>\n",
       "    </tr>\n",
       "    <tr>\n",
       "      <th>1</th>\n",
       "      <td>8</td>\n",
       "      <td>183</td>\n",
       "      <td>64</td>\n",
       "      <td>0</td>\n",
       "      <td>0</td>\n",
       "      <td>23.3</td>\n",
       "      <td>0.672</td>\n",
       "      <td>32</td>\n",
       "      <td>1</td>\n",
       "    </tr>\n",
       "    <tr>\n",
       "      <th>2</th>\n",
       "      <td>1</td>\n",
       "      <td>89</td>\n",
       "      <td>66</td>\n",
       "      <td>23</td>\n",
       "      <td>94</td>\n",
       "      <td>28.1</td>\n",
       "      <td>0.167</td>\n",
       "      <td>21</td>\n",
       "      <td>0</td>\n",
       "    </tr>\n",
       "    <tr>\n",
       "      <th>3</th>\n",
       "      <td>0</td>\n",
       "      <td>137</td>\n",
       "      <td>40</td>\n",
       "      <td>35</td>\n",
       "      <td>168</td>\n",
       "      <td>43.1</td>\n",
       "      <td>2.288</td>\n",
       "      <td>33</td>\n",
       "      <td>1</td>\n",
       "    </tr>\n",
       "    <tr>\n",
       "      <th>4</th>\n",
       "      <td>5</td>\n",
       "      <td>116</td>\n",
       "      <td>74</td>\n",
       "      <td>0</td>\n",
       "      <td>0</td>\n",
       "      <td>25.6</td>\n",
       "      <td>0.201</td>\n",
       "      <td>30</td>\n",
       "      <td>0</td>\n",
       "    </tr>\n",
       "  </tbody>\n",
       "</table>\n",
       "</div>"
      ],
      "text/plain": [
       "   Number of times pregnant  Plasma glucose concentration  \\\n",
       "0                         1                            85   \n",
       "1                         8                           183   \n",
       "2                         1                            89   \n",
       "3                         0                           137   \n",
       "4                         5                           116   \n",
       "\n",
       "   Diastolic blood pressure  Triceps skin fold thickness  \\\n",
       "0                        66                           29   \n",
       "1                        64                            0   \n",
       "2                        66                           23   \n",
       "3                        40                           35   \n",
       "4                        74                            0   \n",
       "\n",
       "   2-Hour serum insulin  Body mass index  Diabetes pedigree function  Age  \\\n",
       "0                     0             26.6                       0.351   31   \n",
       "1                     0             23.3                       0.672   32   \n",
       "2                    94             28.1                       0.167   21   \n",
       "3                   168             43.1                       2.288   33   \n",
       "4                     0             25.6                       0.201   30   \n",
       "\n",
       "   Result  \n",
       "0       0  \n",
       "1       1  \n",
       "2       0  \n",
       "3       1  \n",
       "4       0  "
      ]
     },
     "execution_count": 5,
     "metadata": {},
     "output_type": "execute_result"
    }
   ],
   "source": [
    "df.head()"
   ]
  },
  {
   "cell_type": "code",
   "execution_count": 6,
   "id": "8add0bca-8b72-47b2-82d8-cf8013f6171d",
   "metadata": {},
   "outputs": [
    {
     "data": {
      "text/html": [
       "<div>\n",
       "<style scoped>\n",
       "    .dataframe tbody tr th:only-of-type {\n",
       "        vertical-align: middle;\n",
       "    }\n",
       "\n",
       "    .dataframe tbody tr th {\n",
       "        vertical-align: top;\n",
       "    }\n",
       "\n",
       "    .dataframe thead th {\n",
       "        text-align: right;\n",
       "    }\n",
       "</style>\n",
       "<table border=\"1\" class=\"dataframe\">\n",
       "  <thead>\n",
       "    <tr style=\"text-align: right;\">\n",
       "      <th></th>\n",
       "      <th>Number of times pregnant</th>\n",
       "      <th>Plasma glucose concentration</th>\n",
       "      <th>Diastolic blood pressure</th>\n",
       "      <th>Triceps skin fold thickness</th>\n",
       "      <th>2-Hour serum insulin</th>\n",
       "      <th>Body mass index</th>\n",
       "      <th>Diabetes pedigree function</th>\n",
       "      <th>Age</th>\n",
       "      <th>Result</th>\n",
       "    </tr>\n",
       "  </thead>\n",
       "  <tbody>\n",
       "    <tr>\n",
       "      <th>count</th>\n",
       "      <td>767.000000</td>\n",
       "      <td>767.000000</td>\n",
       "      <td>767.000000</td>\n",
       "      <td>767.000000</td>\n",
       "      <td>767.000000</td>\n",
       "      <td>767.000000</td>\n",
       "      <td>767.000000</td>\n",
       "      <td>767.000000</td>\n",
       "      <td>767.000000</td>\n",
       "    </tr>\n",
       "    <tr>\n",
       "      <th>mean</th>\n",
       "      <td>3.842243</td>\n",
       "      <td>120.859192</td>\n",
       "      <td>69.101695</td>\n",
       "      <td>20.517601</td>\n",
       "      <td>79.903520</td>\n",
       "      <td>31.990482</td>\n",
       "      <td>0.471674</td>\n",
       "      <td>33.219035</td>\n",
       "      <td>0.348110</td>\n",
       "    </tr>\n",
       "    <tr>\n",
       "      <th>std</th>\n",
       "      <td>3.370877</td>\n",
       "      <td>31.978468</td>\n",
       "      <td>19.368155</td>\n",
       "      <td>15.954059</td>\n",
       "      <td>115.283105</td>\n",
       "      <td>7.889091</td>\n",
       "      <td>0.331497</td>\n",
       "      <td>11.752296</td>\n",
       "      <td>0.476682</td>\n",
       "    </tr>\n",
       "    <tr>\n",
       "      <th>min</th>\n",
       "      <td>0.000000</td>\n",
       "      <td>0.000000</td>\n",
       "      <td>0.000000</td>\n",
       "      <td>0.000000</td>\n",
       "      <td>0.000000</td>\n",
       "      <td>0.000000</td>\n",
       "      <td>0.078000</td>\n",
       "      <td>21.000000</td>\n",
       "      <td>0.000000</td>\n",
       "    </tr>\n",
       "    <tr>\n",
       "      <th>25%</th>\n",
       "      <td>1.000000</td>\n",
       "      <td>99.000000</td>\n",
       "      <td>62.000000</td>\n",
       "      <td>0.000000</td>\n",
       "      <td>0.000000</td>\n",
       "      <td>27.300000</td>\n",
       "      <td>0.243500</td>\n",
       "      <td>24.000000</td>\n",
       "      <td>0.000000</td>\n",
       "    </tr>\n",
       "    <tr>\n",
       "      <th>50%</th>\n",
       "      <td>3.000000</td>\n",
       "      <td>117.000000</td>\n",
       "      <td>72.000000</td>\n",
       "      <td>23.000000</td>\n",
       "      <td>32.000000</td>\n",
       "      <td>32.000000</td>\n",
       "      <td>0.371000</td>\n",
       "      <td>29.000000</td>\n",
       "      <td>0.000000</td>\n",
       "    </tr>\n",
       "    <tr>\n",
       "      <th>75%</th>\n",
       "      <td>6.000000</td>\n",
       "      <td>140.000000</td>\n",
       "      <td>80.000000</td>\n",
       "      <td>32.000000</td>\n",
       "      <td>127.500000</td>\n",
       "      <td>36.600000</td>\n",
       "      <td>0.625000</td>\n",
       "      <td>41.000000</td>\n",
       "      <td>1.000000</td>\n",
       "    </tr>\n",
       "    <tr>\n",
       "      <th>max</th>\n",
       "      <td>17.000000</td>\n",
       "      <td>199.000000</td>\n",
       "      <td>122.000000</td>\n",
       "      <td>99.000000</td>\n",
       "      <td>846.000000</td>\n",
       "      <td>67.100000</td>\n",
       "      <td>2.420000</td>\n",
       "      <td>81.000000</td>\n",
       "      <td>1.000000</td>\n",
       "    </tr>\n",
       "  </tbody>\n",
       "</table>\n",
       "</div>"
      ],
      "text/plain": [
       "       Number of times pregnant  Plasma glucose concentration  \\\n",
       "count                767.000000                    767.000000   \n",
       "mean                   3.842243                    120.859192   \n",
       "std                    3.370877                     31.978468   \n",
       "min                    0.000000                      0.000000   \n",
       "25%                    1.000000                     99.000000   \n",
       "50%                    3.000000                    117.000000   \n",
       "75%                    6.000000                    140.000000   \n",
       "max                   17.000000                    199.000000   \n",
       "\n",
       "       Diastolic blood pressure  Triceps skin fold thickness  \\\n",
       "count                767.000000                   767.000000   \n",
       "mean                  69.101695                    20.517601   \n",
       "std                   19.368155                    15.954059   \n",
       "min                    0.000000                     0.000000   \n",
       "25%                   62.000000                     0.000000   \n",
       "50%                   72.000000                    23.000000   \n",
       "75%                   80.000000                    32.000000   \n",
       "max                  122.000000                    99.000000   \n",
       "\n",
       "       2-Hour serum insulin  Body mass index  Diabetes pedigree function  \\\n",
       "count            767.000000       767.000000                  767.000000   \n",
       "mean              79.903520        31.990482                    0.471674   \n",
       "std              115.283105         7.889091                    0.331497   \n",
       "min                0.000000         0.000000                    0.078000   \n",
       "25%                0.000000        27.300000                    0.243500   \n",
       "50%               32.000000        32.000000                    0.371000   \n",
       "75%              127.500000        36.600000                    0.625000   \n",
       "max              846.000000        67.100000                    2.420000   \n",
       "\n",
       "              Age      Result  \n",
       "count  767.000000  767.000000  \n",
       "mean    33.219035    0.348110  \n",
       "std     11.752296    0.476682  \n",
       "min     21.000000    0.000000  \n",
       "25%     24.000000    0.000000  \n",
       "50%     29.000000    0.000000  \n",
       "75%     41.000000    1.000000  \n",
       "max     81.000000    1.000000  "
      ]
     },
     "execution_count": 6,
     "metadata": {},
     "output_type": "execute_result"
    }
   ],
   "source": [
    "df.describe()"
   ]
  },
  {
   "cell_type": "code",
   "execution_count": 7,
   "id": "403cd896-4467-49ab-a815-03a9c724a70a",
   "metadata": {},
   "outputs": [
    {
     "data": {
      "text/plain": [
       "<AxesSubplot:>"
      ]
     },
     "execution_count": 7,
     "metadata": {},
     "output_type": "execute_result"
    },
    {
     "data": {
      "image/png": "[encoded data removed]",
      "text/plain": [
       "<Figure size 432x288 with 1 Axes>"
      ]
     },
     "metadata": {
      "needs_background": "light"
     },
     "output_type": "display_data"
    }
   ],
   "source": [
    "df.Age.hist()"
   ]
  },
  {
   "cell_type": "code",
   "execution_count": 8,
   "id": "a400e440-7713-4928-b687-ec52d01c8e03",
   "metadata": {},
   "outputs": [
    {
     "data": {
      "text/plain": [
       "<AxesSubplot:>"
      ]
     },
     "execution_count": 8,
     "metadata": {},
     "output_type": "execute_result"
    },
    {
     "data": {
      "image/png": "[encoded data removed]",
      "text/plain": [
       "<Figure size 432x288 with 1 Axes>"
      ]
     },
     "metadata": {
      "needs_background": "light"
     },
     "output_type": "display_data"
    }
   ],
   "source": [
    "df['Body mass index'].hist()"
   ]
  },
  {
   "cell_type": "code",
   "execution_count": 9,
   "id": "8aa3e3e9-a9ce-4e02-8838-fcdc520025dc",
   "metadata": {},
   "outputs": [
    {
     "data": {
      "text/plain": [
       "Number of times pregnant        False\n",
       "Plasma glucose concentration    False\n",
       "Diastolic blood pressure        False\n",
       "Triceps skin fold thickness     False\n",
       "2-Hour serum insulin            False\n",
       "Body mass index                 False\n",
       "Diabetes pedigree function      False\n",
       "Age                             False\n",
       "Result                          False\n",
       "dtype: bool"
      ]
     },
     "execution_count": 9,
     "metadata": {},
     "output_type": "execute_result"
    }
   ],
   "source": [
    "df.isnull().any()"
   ]
  },
  {
   "cell_type": "code",
   "execution_count": 10,
   "id": "5a34b40e-c025-47a4-a944-ff9f610c1abe",
   "metadata": {},
   "outputs": [
    {
     "data": {
      "image/png": "[encoded data removed]",
      "text/plain": [
       "<Figure size 432x288 with 1 Axes>"
      ]
     },
     "metadata": {
      "needs_background": "light"
     },
     "output_type": "display_data"
    }
   ],
   "source": [
    "sns.scatterplot(x=\"Age\",y=\"Body mass index\",data=df);"
   ]
  },
  {
   "cell_type": "code",
   "execution_count": 11,
   "id": "06a899b5-99e2-4c3d-9e27-db16bde05811",
   "metadata": {},
   "outputs": [
    {
     "data": {
      "text/html": [
       "<div>\n",
       "<style scoped>\n",
       "    .dataframe tbody tr th:only-of-type {\n",
       "        vertical-align: middle;\n",
       "    }\n",
       "\n",
       "    .dataframe tbody tr th {\n",
       "        vertical-align: top;\n",
       "    }\n",
       "\n",
       "    .dataframe thead th {\n",
       "        text-align: right;\n",
       "    }\n",
       "</style>\n",
       "<table border=\"1\" class=\"dataframe\">\n",
       "  <thead>\n",
       "    <tr style=\"text-align: right;\">\n",
       "      <th></th>\n",
       "      <th>Number of times pregnant</th>\n",
       "      <th>Plasma glucose concentration</th>\n",
       "      <th>Diastolic blood pressure</th>\n",
       "      <th>Triceps skin fold thickness</th>\n",
       "      <th>2-Hour serum insulin</th>\n",
       "      <th>Body mass index</th>\n",
       "      <th>Diabetes pedigree function</th>\n",
       "      <th>Age</th>\n",
       "      <th>Result</th>\n",
       "    </tr>\n",
       "  </thead>\n",
       "  <tbody>\n",
       "    <tr>\n",
       "      <th>Number of times pregnant</th>\n",
       "      <td>1.000000</td>\n",
       "      <td>0.128846</td>\n",
       "      <td>0.141197</td>\n",
       "      <td>-0.082495</td>\n",
       "      <td>-0.072999</td>\n",
       "      <td>0.017518</td>\n",
       "      <td>-0.033927</td>\n",
       "      <td>0.544018</td>\n",
       "      <td>0.221087</td>\n",
       "    </tr>\n",
       "    <tr>\n",
       "      <th>Plasma glucose concentration</th>\n",
       "      <td>0.128846</td>\n",
       "      <td>1.000000</td>\n",
       "      <td>0.152498</td>\n",
       "      <td>0.056381</td>\n",
       "      <td>0.332383</td>\n",
       "      <td>0.220955</td>\n",
       "      <td>0.136903</td>\n",
       "      <td>0.262408</td>\n",
       "      <td>0.465856</td>\n",
       "    </tr>\n",
       "    <tr>\n",
       "      <th>Diastolic blood pressure</th>\n",
       "      <td>0.141197</td>\n",
       "      <td>0.152498</td>\n",
       "      <td>1.000000</td>\n",
       "      <td>0.207308</td>\n",
       "      <td>0.089098</td>\n",
       "      <td>0.281777</td>\n",
       "      <td>0.041180</td>\n",
       "      <td>0.239571</td>\n",
       "      <td>0.064882</td>\n",
       "    </tr>\n",
       "    <tr>\n",
       "      <th>Triceps skin fold thickness</th>\n",
       "      <td>-0.082495</td>\n",
       "      <td>0.056381</td>\n",
       "      <td>0.207308</td>\n",
       "      <td>1.000000</td>\n",
       "      <td>0.437974</td>\n",
       "      <td>0.392553</td>\n",
       "      <td>0.183498</td>\n",
       "      <td>-0.115873</td>\n",
       "      <td>0.073265</td>\n",
       "    </tr>\n",
       "    <tr>\n",
       "      <th>2-Hour serum insulin</th>\n",
       "      <td>-0.072999</td>\n",
       "      <td>0.332383</td>\n",
       "      <td>0.089098</td>\n",
       "      <td>0.437974</td>\n",
       "      <td>1.000000</td>\n",
       "      <td>0.198111</td>\n",
       "      <td>0.185579</td>\n",
       "      <td>-0.040942</td>\n",
       "      <td>0.131984</td>\n",
       "    </tr>\n",
       "    <tr>\n",
       "      <th>Body mass index</th>\n",
       "      <td>0.017518</td>\n",
       "      <td>0.220955</td>\n",
       "      <td>0.281777</td>\n",
       "      <td>0.392553</td>\n",
       "      <td>0.198111</td>\n",
       "      <td>1.000000</td>\n",
       "      <td>0.140546</td>\n",
       "      <td>0.035911</td>\n",
       "      <td>0.292695</td>\n",
       "    </tr>\n",
       "    <tr>\n",
       "      <th>Diabetes pedigree function</th>\n",
       "      <td>-0.033927</td>\n",
       "      <td>0.136903</td>\n",
       "      <td>0.041180</td>\n",
       "      <td>0.183498</td>\n",
       "      <td>0.185579</td>\n",
       "      <td>0.140546</td>\n",
       "      <td>1.000000</td>\n",
       "      <td>0.032738</td>\n",
       "      <td>0.173245</td>\n",
       "    </tr>\n",
       "    <tr>\n",
       "      <th>Age</th>\n",
       "      <td>0.544018</td>\n",
       "      <td>0.262408</td>\n",
       "      <td>0.239571</td>\n",
       "      <td>-0.115873</td>\n",
       "      <td>-0.040942</td>\n",
       "      <td>0.035911</td>\n",
       "      <td>0.032738</td>\n",
       "      <td>1.000000</td>\n",
       "      <td>0.236417</td>\n",
       "    </tr>\n",
       "    <tr>\n",
       "      <th>Result</th>\n",
       "      <td>0.221087</td>\n",
       "      <td>0.465856</td>\n",
       "      <td>0.064882</td>\n",
       "      <td>0.073265</td>\n",
       "      <td>0.131984</td>\n",
       "      <td>0.292695</td>\n",
       "      <td>0.173245</td>\n",
       "      <td>0.236417</td>\n",
       "      <td>1.000000</td>\n",
       "    </tr>\n",
       "  </tbody>\n",
       "</table>\n",
       "</div>"
      ],
      "text/plain": [
       "                              Number of times pregnant  \\\n",
       "Number of times pregnant                      1.000000   \n",
       "Plasma glucose concentration                  0.128846   \n",
       "Diastolic blood pressure                      0.141197   \n",
       "Triceps skin fold thickness                  -0.082495   \n",
       "2-Hour serum insulin                         -0.072999   \n",
       "Body mass index                               0.017518   \n",
       "Diabetes pedigree function                   -0.033927   \n",
       "Age                                           0.544018   \n",
       "Result                                        0.221087   \n",
       "\n",
       "                              Plasma glucose concentration  \\\n",
       "Number of times pregnant                          0.128846   \n",
       "Plasma glucose concentration                      1.000000   \n",
       "Diastolic blood pressure                          0.152498   \n",
       "Triceps skin fold thickness                       0.056381   \n",
       "2-Hour serum insulin                              0.332383   \n",
       "Body mass index                                   0.220955   \n",
       "Diabetes pedigree function                        0.136903   \n",
       "Age                                               0.262408   \n",
       "Result                                            0.465856   \n",
       "\n",
       "                              Diastolic blood pressure  \\\n",
       "Number of times pregnant                      0.141197   \n",
       "Plasma glucose concentration                  0.152498   \n",
       "Diastolic blood pressure                      1.000000   \n",
       "Triceps skin fold thickness                   0.207308   \n",
       "2-Hour serum insulin                          0.089098   \n",
       "Body mass index                               0.281777   \n",
       "Diabetes pedigree function                    0.041180   \n",
       "Age                                           0.239571   \n",
       "Result                                        0.064882   \n",
       "\n",
       "                              Triceps skin fold thickness  \\\n",
       "Number of times pregnant                        -0.082495   \n",
       "Plasma glucose concentration                     0.056381   \n",
       "Diastolic blood pressure                         0.207308   \n",
       "Triceps skin fold thickness                      1.000000   \n",
       "2-Hour serum insulin                             0.437974   \n",
       "Body mass index                                  0.392553   \n",
       "Diabetes pedigree function                       0.183498   \n",
       "Age                                             -0.115873   \n",
       "Result                                           0.073265   \n",
       "\n",
       "                              2-Hour serum insulin  Body mass index  \\\n",
       "Number of times pregnant                 -0.072999         0.017518   \n",
       "Plasma glucose concentration              0.332383         0.220955   \n",
       "Diastolic blood pressure                  0.089098         0.281777   \n",
       "Triceps skin fold thickness               0.437974         0.392553   \n",
       "2-Hour serum insulin                      1.000000         0.198111   \n",
       "Body mass index                           0.198111         1.000000   \n",
       "Diabetes pedigree function                0.185579         0.140546   \n",
       "Age                                      -0.040942         0.035911   \n",
       "Result                                    0.131984         0.292695   \n",
       "\n",
       "                              Diabetes pedigree function       Age    Result  \n",
       "Number of times pregnant                       -0.033927  0.544018  0.221087  \n",
       "Plasma glucose concentration                    0.136903  0.262408  0.465856  \n",
       "Diastolic blood pressure                        0.041180  0.239571  0.064882  \n",
       "Triceps skin fold thickness                     0.183498 -0.115873  0.073265  \n",
       "2-Hour serum insulin                            0.185579 -0.040942  0.131984  \n",
       "Body mass index                                 0.140546  0.035911  0.292695  \n",
       "Diabetes pedigree function                      1.000000  0.032738  0.173245  \n",
       "Age                                             0.032738  1.000000  0.236417  \n",
       "Result                                          0.173245  0.236417  1.000000  "
      ]
     },
     "execution_count": 11,
     "metadata": {},
     "output_type": "execute_result"
    }
   ],
   "source": [
    "df.corr()"
   ]
  },
  {
   "cell_type": "code",
   "execution_count": 12,
   "id": "6196c3ed-daad-4983-9d57-b7dd426c6479",
   "metadata": {},
   "outputs": [
    {
     "data": {
      "image/png": "[encoded data removed]",
      "text/plain": [
       "<Figure size 432x288 with 2 Axes>"
      ]
     },
     "metadata": {
      "needs_background": "light"
     },
     "output_type": "display_data"
    }
   ],
   "source": [
    "sns.heatmap(df.corr());"
   ]
  },
  {
   "cell_type": "code",
   "execution_count": 13,
   "id": "080fd446-af6c-4e8b-8dbf-215e8cc0ad10",
   "metadata": {},
   "outputs": [
    {
     "data": {
      "text/plain": [
       "<AxesSubplot:xlabel='2-Hour serum insulin'>"
      ]
     },
     "execution_count": 13,
     "metadata": {},
     "output_type": "execute_result"
    },
    {
     "data": {
      "image/png": "[encoded data removed]",
      "text/plain": [
       "<Figure size 432x288 with 1 Axes>"
      ]
     },
     "metadata": {
      "needs_background": "light"
     },
     "output_type": "display_data"
    }
   ],
   "source": [
    "sns.boxplot(x=df['2-Hour serum insulin'])"
   ]
  },
  {
   "cell_type": "code",
   "execution_count": 14,
   "id": "c03f8800-f604-46c9-8b43-797507063b62",
   "metadata": {},
   "outputs": [],
   "source": [
    "from scipy import stats"
   ]
  },
  {
   "cell_type": "code",
   "execution_count": 15,
   "id": "4a712734-9685-45d7-b4f5-9a267d00082e",
   "metadata": {},
   "outputs": [
    {
     "name": "stdout",
     "output_type": "stream",
     "text": [
      "[[0.84372629 1.12208597 0.16024856 ... 0.36426474 0.18894038 0.73075304]\n",
      " [1.23423997 1.94447577 0.26357823 ... 0.60470064 0.1037951  1.36845138]\n",
      " [0.84372629 0.99692019 0.16024856 ... 0.91968415 1.0403932  0.73075304]\n",
      " ...\n",
      " [0.343683   0.0044061  0.14974046 ... 0.68423462 0.27408566 0.73075304]\n",
      " [0.84372629 0.16086333 0.47023757 ... 0.37030191 1.17338414 1.36845138]\n",
      " [0.84372629 0.8717544  0.04641078 ... 0.47293375 0.87010264 0.73075304]]\n"
     ]
    }
   ],
   "source": [
    "z=np.abs(stats.zscore(df))\n",
    "print(z)"
   ]
  },
  {
   "cell_type": "code",
   "execution_count": 16,
   "id": "55013bd5-6f16-4de3-b606-a36ebf8b2040",
   "metadata": {},
   "outputs": [
    {
     "name": "stdout",
     "output_type": "stream",
     "text": [
      "(array([  3,   6,   7,   8,  12,  14,  44,  48,  48,  57,  59,  59,  74,\n",
      "        77,  80,  80,  87, 110, 122, 144, 152, 158, 171, 176, 181, 185,\n",
      "       192, 219, 221, 227, 227, 246, 260, 265, 268, 285, 297, 299, 329,\n",
      "       331, 335, 341, 346, 348, 356, 369, 369, 370, 370, 394, 408, 414,\n",
      "       425, 425, 429, 434, 444, 444, 452, 452, 454, 458, 467, 483, 485,\n",
      "       493, 493, 501, 521, 521, 532, 534, 578, 583, 588, 592, 600, 603,\n",
      "       618, 620, 642, 644, 654, 665, 672, 683, 683, 694, 696, 702, 705,\n",
      "       705, 752]), array([6, 2, 4, 5, 4, 2, 6, 2, 5, 6, 2, 5, 1, 2, 2, 5, 0, 4, 7, 5, 4, 0,\n",
      "       2, 5, 1, 4, 2, 4, 2, 4, 6, 4, 2, 2, 2, 4, 0, 2, 6, 2, 2, 1, 2, 1,\n",
      "       2, 4, 6, 5, 6, 6, 4, 4, 2, 5, 2, 2, 5, 6, 2, 7, 0, 7, 2, 2, 4, 2,\n",
      "       5, 1, 2, 5, 2, 2, 3, 4, 2, 6, 2, 2, 2, 6, 2, 4, 4, 7, 5, 5, 7, 4,\n",
      "       2, 2, 2, 5, 4]))\n"
     ]
    }
   ],
   "source": [
    "print(np.where(z > 3))"
   ]
  },
  {
   "cell_type": "code",
   "execution_count": 17,
   "id": "25247713-7aec-46bc-86d3-12c68bb65eec",
   "metadata": {},
   "outputs": [
    {
     "data": {
      "text/plain": [
       "((767, 9), (687, 9))"
      ]
     },
     "execution_count": 17,
     "metadata": {},
     "output_type": "execute_result"
    }
   ],
   "source": [
    "z_df = df[(z < 3).all(axis=1)]\n",
    "df.shape,z_df.shape"
   ]
  },
  {
   "cell_type": "code",
   "execution_count": 18,
   "id": "74a79f98-17c3-4a8a-8a8a-0b2d14f51dae",
   "metadata": {},
   "outputs": [
    {
     "data": {
      "text/plain": [
       "<AxesSubplot:xlabel='2-Hour serum insulin'>"
      ]
     },
     "execution_count": 18,
     "metadata": {},
     "output_type": "execute_result"
    },
    {
     "data": {
      "image/png": "[encoded data removed]",
      "text/plain": [
       "<Figure size 432x288 with 1 Axes>"
      ]
     },
     "metadata": {
      "needs_background": "light"
     },
     "output_type": "display_data"
    }
   ],
   "source": [
    "sns.boxplot(x=z_df['2-Hour serum insulin'])"
   ]
  },
  {
   "cell_type": "code",
   "execution_count": 19,
   "id": "af964497-52b3-4088-93fa-b320446ebe98",
   "metadata": {},
   "outputs": [
    {
     "data": {
      "text/plain": [
       "<AxesSubplot:>"
      ]
     },
     "execution_count": 19,
     "metadata": {},
     "output_type": "execute_result"
    },
    {
     "data": {
      "image/png": "[encoded data removed]",
      "text/plain": [
       "<Figure size 432x288 with 1 Axes>"
      ]
     },
     "metadata": {
      "needs_background": "light"
     },
     "output_type": "display_data"
    }
   ],
   "source": [
    "df.boxplot()"
   ]
  },
  {
   "cell_type": "code",
   "execution_count": 20,
   "id": "35c1a37d-c740-4253-8629-ca6b922e96aa",
   "metadata": {},
   "outputs": [
    {
     "data": {
      "text/plain": [
       "<AxesSubplot:>"
      ]
     },
     "execution_count": 20,
     "metadata": {},
     "output_type": "execute_result"
    },
    {
     "data": {
      "image/png": "[encoded data removed]",
      "text/plain": [
       "<Figure size 432x288 with 1 Axes>"
      ]
     },
     "metadata": {
      "needs_background": "light"
     },
     "output_type": "display_data"
    }
   ],
   "source": [
    "z_df.boxplot()"
   ]
  },
  {
   "cell_type": "code",
   "execution_count": 21,
   "id": "333fb4bf-aae6-4a9c-9c5c-b04c699051f7",
   "metadata": {},
   "outputs": [
    {
     "data": {
      "text/html": [
       "<div>\n",
       "<style scoped>\n",
       "    .dataframe tbody tr th:only-of-type {\n",
       "        vertical-align: middle;\n",
       "    }\n",
       "\n",
       "    .dataframe tbody tr th {\n",
       "        vertical-align: top;\n",
       "    }\n",
       "\n",
       "    .dataframe thead th {\n",
       "        text-align: right;\n",
       "    }\n",
       "</style>\n",
       "<table border=\"1\" class=\"dataframe\">\n",
       "  <thead>\n",
       "    <tr style=\"text-align: right;\">\n",
       "      <th></th>\n",
       "      <th>Number of times pregnant</th>\n",
       "      <th>Plasma glucose concentration</th>\n",
       "      <th>Diastolic blood pressure</th>\n",
       "      <th>Triceps skin fold thickness</th>\n",
       "      <th>2-Hour serum insulin</th>\n",
       "      <th>Body mass index</th>\n",
       "      <th>Diabetes pedigree function</th>\n",
       "      <th>Age</th>\n",
       "      <th>Result</th>\n",
       "    </tr>\n",
       "  </thead>\n",
       "  <tbody>\n",
       "    <tr>\n",
       "      <th>0</th>\n",
       "      <td>1</td>\n",
       "      <td>85</td>\n",
       "      <td>66</td>\n",
       "      <td>29</td>\n",
       "      <td>0</td>\n",
       "      <td>26.6</td>\n",
       "      <td>0.351</td>\n",
       "      <td>31</td>\n",
       "      <td>0</td>\n",
       "    </tr>\n",
       "    <tr>\n",
       "      <th>1</th>\n",
       "      <td>8</td>\n",
       "      <td>183</td>\n",
       "      <td>64</td>\n",
       "      <td>0</td>\n",
       "      <td>0</td>\n",
       "      <td>23.3</td>\n",
       "      <td>0.672</td>\n",
       "      <td>32</td>\n",
       "      <td>1</td>\n",
       "    </tr>\n",
       "    <tr>\n",
       "      <th>2</th>\n",
       "      <td>1</td>\n",
       "      <td>89</td>\n",
       "      <td>66</td>\n",
       "      <td>23</td>\n",
       "      <td>94</td>\n",
       "      <td>28.1</td>\n",
       "      <td>0.167</td>\n",
       "      <td>21</td>\n",
       "      <td>0</td>\n",
       "    </tr>\n",
       "    <tr>\n",
       "      <th>4</th>\n",
       "      <td>5</td>\n",
       "      <td>116</td>\n",
       "      <td>74</td>\n",
       "      <td>0</td>\n",
       "      <td>0</td>\n",
       "      <td>25.6</td>\n",
       "      <td>0.201</td>\n",
       "      <td>30</td>\n",
       "      <td>0</td>\n",
       "    </tr>\n",
       "    <tr>\n",
       "      <th>5</th>\n",
       "      <td>3</td>\n",
       "      <td>78</td>\n",
       "      <td>50</td>\n",
       "      <td>32</td>\n",
       "      <td>88</td>\n",
       "      <td>31.0</td>\n",
       "      <td>0.248</td>\n",
       "      <td>26</td>\n",
       "      <td>1</td>\n",
       "    </tr>\n",
       "  </tbody>\n",
       "</table>\n",
       "</div>"
      ],
      "text/plain": [
       "   Number of times pregnant  Plasma glucose concentration  \\\n",
       "0                         1                            85   \n",
       "1                         8                           183   \n",
       "2                         1                            89   \n",
       "4                         5                           116   \n",
       "5                         3                            78   \n",
       "\n",
       "   Diastolic blood pressure  Triceps skin fold thickness  \\\n",
       "0                        66                           29   \n",
       "1                        64                            0   \n",
       "2                        66                           23   \n",
       "4                        74                            0   \n",
       "5                        50                           32   \n",
       "\n",
       "   2-Hour serum insulin  Body mass index  Diabetes pedigree function  Age  \\\n",
       "0                     0             26.6                       0.351   31   \n",
       "1                     0             23.3                       0.672   32   \n",
       "2                    94             28.1                       0.167   21   \n",
       "4                     0             25.6                       0.201   30   \n",
       "5                    88             31.0                       0.248   26   \n",
       "\n",
       "   Result  \n",
       "0       0  \n",
       "1       1  \n",
       "2       0  \n",
       "4       0  \n",
       "5       1  "
      ]
     },
     "execution_count": 21,
     "metadata": {},
     "output_type": "execute_result"
    }
   ],
   "source": [
    "z_df.head()"
   ]
  },
  {
   "cell_type": "code",
   "execution_count": 22,
   "id": "b0ae3f35-9093-4b33-9cd4-1c6f6a836343",
   "metadata": {},
   "outputs": [],
   "source": [
    "x_df = z_df.loc[:, z_df.columns.difference(['Number of times pregnant','Result'])].replace(0,np.nan)"
   ]
  },
  {
   "cell_type": "code",
   "execution_count": 23,
   "id": "fe7c0e93-0e9a-46fa-862d-8c0aaf959c83",
   "metadata": {},
   "outputs": [
    {
     "data": {
      "text/html": [
       "<div>\n",
       "<style scoped>\n",
       "    .dataframe tbody tr th:only-of-type {\n",
       "        vertical-align: middle;\n",
       "    }\n",
       "\n",
       "    .dataframe tbody tr th {\n",
       "        vertical-align: top;\n",
       "    }\n",
       "\n",
       "    .dataframe thead th {\n",
       "        text-align: right;\n",
       "    }\n",
       "</style>\n",
       "<table border=\"1\" class=\"dataframe\">\n",
       "  <thead>\n",
       "    <tr style=\"text-align: right;\">\n",
       "      <th></th>\n",
       "      <th>2-Hour serum insulin</th>\n",
       "      <th>Age</th>\n",
       "      <th>Body mass index</th>\n",
       "      <th>Diabetes pedigree function</th>\n",
       "      <th>Diastolic blood pressure</th>\n",
       "      <th>Plasma glucose concentration</th>\n",
       "      <th>Triceps skin fold thickness</th>\n",
       "      <th>Number of times pregnant</th>\n",
       "      <th>Result</th>\n",
       "    </tr>\n",
       "  </thead>\n",
       "  <tbody>\n",
       "    <tr>\n",
       "      <th>0</th>\n",
       "      <td>NaN</td>\n",
       "      <td>31.0</td>\n",
       "      <td>26.6</td>\n",
       "      <td>0.351</td>\n",
       "      <td>66.0</td>\n",
       "      <td>85.0</td>\n",
       "      <td>29.0</td>\n",
       "      <td>1</td>\n",
       "      <td>0</td>\n",
       "    </tr>\n",
       "    <tr>\n",
       "      <th>1</th>\n",
       "      <td>NaN</td>\n",
       "      <td>32.0</td>\n",
       "      <td>23.3</td>\n",
       "      <td>0.672</td>\n",
       "      <td>64.0</td>\n",
       "      <td>183.0</td>\n",
       "      <td>NaN</td>\n",
       "      <td>8</td>\n",
       "      <td>1</td>\n",
       "    </tr>\n",
       "    <tr>\n",
       "      <th>2</th>\n",
       "      <td>94.0</td>\n",
       "      <td>21.0</td>\n",
       "      <td>28.1</td>\n",
       "      <td>0.167</td>\n",
       "      <td>66.0</td>\n",
       "      <td>89.0</td>\n",
       "      <td>23.0</td>\n",
       "      <td>1</td>\n",
       "      <td>0</td>\n",
       "    </tr>\n",
       "    <tr>\n",
       "      <th>3</th>\n",
       "      <td>NaN</td>\n",
       "      <td>NaN</td>\n",
       "      <td>NaN</td>\n",
       "      <td>NaN</td>\n",
       "      <td>NaN</td>\n",
       "      <td>NaN</td>\n",
       "      <td>NaN</td>\n",
       "      <td>0</td>\n",
       "      <td>1</td>\n",
       "    </tr>\n",
       "    <tr>\n",
       "      <th>4</th>\n",
       "      <td>NaN</td>\n",
       "      <td>30.0</td>\n",
       "      <td>25.6</td>\n",
       "      <td>0.201</td>\n",
       "      <td>74.0</td>\n",
       "      <td>116.0</td>\n",
       "      <td>NaN</td>\n",
       "      <td>5</td>\n",
       "      <td>0</td>\n",
       "    </tr>\n",
       "  </tbody>\n",
       "</table>\n",
       "</div>"
      ],
      "text/plain": [
       "   2-Hour serum insulin   Age  Body mass index  Diabetes pedigree function  \\\n",
       "0                   NaN  31.0             26.6                       0.351   \n",
       "1                   NaN  32.0             23.3                       0.672   \n",
       "2                  94.0  21.0             28.1                       0.167   \n",
       "3                   NaN   NaN              NaN                         NaN   \n",
       "4                   NaN  30.0             25.6                       0.201   \n",
       "\n",
       "   Diastolic blood pressure  Plasma glucose concentration  \\\n",
       "0                      66.0                          85.0   \n",
       "1                      64.0                         183.0   \n",
       "2                      66.0                          89.0   \n",
       "3                       NaN                           NaN   \n",
       "4                      74.0                         116.0   \n",
       "\n",
       "   Triceps skin fold thickness  Number of times pregnant  Result  \n",
       "0                         29.0                         1       0  \n",
       "1                          NaN                         8       1  \n",
       "2                         23.0                         1       0  \n",
       "3                          NaN                         0       1  \n",
       "4                          NaN                         5       0  "
      ]
     },
     "execution_count": 23,
     "metadata": {},
     "output_type": "execute_result"
    }
   ],
   "source": [
    "final_df = pd.concat([x_df, df[['Number of times pregnant','Result']]], axis=\"columns\")\n",
    "final_df.head()"
   ]
  },
  {
   "cell_type": "code",
   "execution_count": 24,
   "id": "37171b9f-9933-45a1-9613-a1f089663d6e",
   "metadata": {},
   "outputs": [],
   "source": [
    "final_df = final_df.fillna(final_df.mean())"
   ]
  },
  {
   "cell_type": "code",
   "execution_count": 25,
   "id": "bc8ee72f-c8e5-4fb5-81f3-178067fb44e6",
   "metadata": {},
   "outputs": [
    {
     "data": {
      "text/html": [
       "<div>\n",
       "<style scoped>\n",
       "    .dataframe tbody tr th:only-of-type {\n",
       "        vertical-align: middle;\n",
       "    }\n",
       "\n",
       "    .dataframe tbody tr th {\n",
       "        vertical-align: top;\n",
       "    }\n",
       "\n",
       "    .dataframe thead th {\n",
       "        text-align: right;\n",
       "    }\n",
       "</style>\n",
       "<table border=\"1\" class=\"dataframe\">\n",
       "  <thead>\n",
       "    <tr style=\"text-align: right;\">\n",
       "      <th></th>\n",
       "      <th>2-Hour serum insulin</th>\n",
       "      <th>Age</th>\n",
       "      <th>Body mass index</th>\n",
       "      <th>Diabetes pedigree function</th>\n",
       "      <th>Diastolic blood pressure</th>\n",
       "      <th>Plasma glucose concentration</th>\n",
       "      <th>Triceps skin fold thickness</th>\n",
       "      <th>Number of times pregnant</th>\n",
       "      <th>Result</th>\n",
       "    </tr>\n",
       "  </thead>\n",
       "  <tbody>\n",
       "    <tr>\n",
       "      <th>0</th>\n",
       "      <td>137.046703</td>\n",
       "      <td>31.000000</td>\n",
       "      <td>26.600000</td>\n",
       "      <td>0.351000</td>\n",
       "      <td>66.000000</td>\n",
       "      <td>85.000000</td>\n",
       "      <td>29.000000</td>\n",
       "      <td>1</td>\n",
       "      <td>0</td>\n",
       "    </tr>\n",
       "    <tr>\n",
       "      <th>1</th>\n",
       "      <td>137.046703</td>\n",
       "      <td>32.000000</td>\n",
       "      <td>23.300000</td>\n",
       "      <td>0.672000</td>\n",
       "      <td>64.000000</td>\n",
       "      <td>183.000000</td>\n",
       "      <td>28.706237</td>\n",
       "      <td>8</td>\n",
       "      <td>1</td>\n",
       "    </tr>\n",
       "    <tr>\n",
       "      <th>2</th>\n",
       "      <td>94.000000</td>\n",
       "      <td>21.000000</td>\n",
       "      <td>28.100000</td>\n",
       "      <td>0.167000</td>\n",
       "      <td>66.000000</td>\n",
       "      <td>89.000000</td>\n",
       "      <td>23.000000</td>\n",
       "      <td>1</td>\n",
       "      <td>0</td>\n",
       "    </tr>\n",
       "    <tr>\n",
       "      <th>3</th>\n",
       "      <td>137.046703</td>\n",
       "      <td>33.069869</td>\n",
       "      <td>32.207132</td>\n",
       "      <td>0.454304</td>\n",
       "      <td>72.346434</td>\n",
       "      <td>120.253275</td>\n",
       "      <td>28.706237</td>\n",
       "      <td>0</td>\n",
       "      <td>1</td>\n",
       "    </tr>\n",
       "    <tr>\n",
       "      <th>4</th>\n",
       "      <td>137.046703</td>\n",
       "      <td>30.000000</td>\n",
       "      <td>25.600000</td>\n",
       "      <td>0.201000</td>\n",
       "      <td>74.000000</td>\n",
       "      <td>116.000000</td>\n",
       "      <td>28.706237</td>\n",
       "      <td>5</td>\n",
       "      <td>0</td>\n",
       "    </tr>\n",
       "  </tbody>\n",
       "</table>\n",
       "</div>"
      ],
      "text/plain": [
       "   2-Hour serum insulin        Age  Body mass index  \\\n",
       "0            137.046703  31.000000        26.600000   \n",
       "1            137.046703  32.000000        23.300000   \n",
       "2             94.000000  21.000000        28.100000   \n",
       "3            137.046703  33.069869        32.207132   \n",
       "4            137.046703  30.000000        25.600000   \n",
       "\n",
       "   Diabetes pedigree function  Diastolic blood pressure  \\\n",
       "0                    0.351000                 66.000000   \n",
       "1                    0.672000                 64.000000   \n",
       "2                    0.167000                 66.000000   \n",
       "3                    0.454304                 72.346434   \n",
       "4                    0.201000                 74.000000   \n",
       "\n",
       "   Plasma glucose concentration  Triceps skin fold thickness  \\\n",
       "0                     85.000000                    29.000000   \n",
       "1                    183.000000                    28.706237   \n",
       "2                     89.000000                    23.000000   \n",
       "3                    120.253275                    28.706237   \n",
       "4                    116.000000                    28.706237   \n",
       "\n",
       "   Number of times pregnant  Result  \n",
       "0                         1       0  \n",
       "1                         8       1  \n",
       "2                         1       0  \n",
       "3                         0       1  \n",
       "4                         5       0  "
      ]
     },
     "execution_count": 25,
     "metadata": {},
     "output_type": "execute_result"
    }
   ],
   "source": [
    "final_df.head()"
   ]
  },
  {
   "cell_type": "code",
   "execution_count": 26,
   "id": "9acc150f-dec6-4dce-bf08-5e3270825881",
   "metadata": {},
   "outputs": [],
   "source": [
    "x = final_df.drop('Result',axis=1)\n",
    "y = final_df['Result']"
   ]
  },
  {
   "cell_type": "code",
   "execution_count": 27,
   "id": "07c3a62c-8e6c-4876-b2c1-fe3ce96e6f79",
   "metadata": {},
   "outputs": [],
   "source": [
    "from sklearn.model_selection import train_test_split"
   ]
  },
  {
   "cell_type": "code",
   "execution_count": 28,
   "id": "26b1003f-caa6-4498-bb28-0df45f3dbc61",
   "metadata": {},
   "outputs": [],
   "source": [
    "x_train,x_test,y_train,y_test = train_test_split(x,y,test_size=0.3,random_state=101)"
   ]
  },
  {
   "cell_type": "code",
   "execution_count": 29,
   "id": "724890d7-4d8c-4e10-8e77-bb07ab4a349b",
   "metadata": {},
   "outputs": [],
   "source": [
    "from sklearn.preprocessing import MinMaxScaler"
   ]
  },
  {
   "cell_type": "code",
   "execution_count": 30,
   "id": "343fbfca-45f5-44d0-9137-31a97b517f5d",
   "metadata": {},
   "outputs": [],
   "source": [
    "scaler = MinMaxScaler()\n",
    "x_train = scaler.fit_transform(x_train)\n",
    "x_test = scaler.fit_transform(x_test)"
   ]
  },
  {
   "cell_type": "code",
   "execution_count": 31,
   "id": "e4af6ee2-c2c4-406f-9de2-86e7677a8138",
   "metadata": {},
   "outputs": [],
   "source": [
    "from sklearn.linear_model import LogisticRegression"
   ]
  },
  {
   "cell_type": "code",
   "execution_count": 32,
   "id": "9d508c5b-a309-43f4-af0c-4296f9866995",
   "metadata": {},
   "outputs": [],
   "source": [
    "logmodel = LogisticRegression(max_iter=200)"
   ]
  },
  {
   "cell_type": "code",
   "execution_count": 33,
   "id": "f57161d5-918e-4958-9661-f70465b21c7c",
   "metadata": {},
   "outputs": [
    {
     "data": {
      "text/plain": [
       "LogisticRegression(max_iter=200)"
      ]
     },
     "execution_count": 33,
     "metadata": {},
     "output_type": "execute_result"
    }
   ],
   "source": [
    "logmodel.fit(x_train,y_train)"
   ]
  },
  {
   "cell_type": "code",
   "execution_count": 34,
   "id": "5566ac0f-739b-4c73-b6d4-73c249f6b7fa",
   "metadata": {},
   "outputs": [],
   "source": [
    "predictions = logmodel.predict(x_test)"
   ]
  },
  {
   "cell_type": "code",
   "execution_count": 35,
   "id": "9e7bbbae-e976-4e2a-9494-b2476e7336e5",
   "metadata": {},
   "outputs": [
    {
     "name": "stdout",
     "output_type": "stream",
     "text": [
      "              precision    recall  f1-score   support\n",
      "\n",
      "           0       0.76      0.89      0.82       150\n",
      "           1       0.70      0.47      0.56        81\n",
      "\n",
      "    accuracy                           0.74       231\n",
      "   macro avg       0.73      0.68      0.69       231\n",
      "weighted avg       0.74      0.74      0.73       231\n",
      "\n"
     ]
    }
   ],
   "source": [
    "from sklearn.metrics import classification_report\n",
    "print(classification_report(y_test,predictions))"
   ]
  },
  {
   "cell_type": "code",
   "execution_count": 36,
   "id": "f7fc6b78-bf9f-4593-8169-1bcbba5ce227",
   "metadata": {},
   "outputs": [
    {
     "data": {
      "text/plain": [
       "array([[134,  16],\n",
       "       [ 43,  38]])"
      ]
     },
     "execution_count": 36,
     "metadata": {},
     "output_type": "execute_result"
    }
   ],
   "source": [
    "from sklearn.metrics import confusion_matrix\n",
    "confusion_matrix(y_test,predictions)"
   ]
  },
  {
   "cell_type": "code",
   "execution_count": 37,
   "id": "e01810fa-963f-4212-9d14-f7b77ecbcc5c",
   "metadata": {},
   "outputs": [],
   "source": [
    "from sklearn.linear_model import LinearRegression\n",
    "regressor = LinearRegression()"
   ]
  },
  {
   "cell_type": "code",
   "execution_count": 38,
   "id": "541b72c5-89d1-4b69-82cd-b376e718a095",
   "metadata": {},
   "outputs": [
    {
     "data": {
      "text/plain": [
       "LinearRegression()"
      ]
     },
     "execution_count": 38,
     "metadata": {},
     "output_type": "execute_result"
    }
   ],
   "source": [
    "regressor.fit(x_train, y_train)"
   ]
  },
  {
   "cell_type": "code",
   "execution_count": 39,
   "id": "59e93d11-f04b-49e4-84cb-966de586181b",
   "metadata": {},
   "outputs": [],
   "source": [
    "pred = regressor.predict(x_test)"
   ]
  },
  {
   "cell_type": "code",
   "execution_count": 42,
   "id": "576ddf0d-99fd-4a00-80d2-6d91fd0271e5",
   "metadata": {},
   "outputs": [
    {
     "name": "stdout",
     "output_type": "stream",
     "text": [
      "0.26305545095854366\n"
     ]
    }
   ],
   "source": [
    "print(regressor.score(x_test, y_test))"
   ]
  },
  {
   "cell_type": "code",
   "execution_count": null,
   "id": "9b782178-fc0a-4a88-a49c-da3b281bc949",
   "metadata": {},
   "outputs": [],
   "source": []
  }
 ],
 "metadata": {
  "kernelspec": {
   "display_name": "Python 3",
   "language": "python",
   "name": "python3"
  },
  "language_info": {
   "codemirror_mode": {
    "name": "ipython",
    "version": 3
   },
   "file_extension": ".py",
   "mimetype": "text/x-python",
   "name": "python",
   "nbconvert_exporter": "python",
   "pygments_lexer": "ipython3",
   "version": "3.8.8"
  }
 },
 "nbformat": 4,
 "nbformat_minor": 5
}
